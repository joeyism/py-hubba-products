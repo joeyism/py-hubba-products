{
 "cells": [
  {
   "cell_type": "code",
   "execution_count": 2,
   "metadata": {},
   "outputs": [
    {
     "name": "stderr",
     "output_type": "stream",
     "text": [
      "/usr/lib/python3.6/site-packages/IPython/core/interactiveshell.py:2728: DtypeWarning: Columns (5,14) have mixed types. Specify dtype option on import or set low_memory=False.\n",
      "  interactivity=interactivity, compiler=compiler, result=result)\n",
      "/usr/lib/python3.6/site-packages/IPython/core/interactiveshell.py:2728: DtypeWarning: Columns (28,30,33,39,41) have mixed types. Specify dtype option on import or set low_memory=False.\n",
      "  interactivity=interactivity, compiler=compiler, result=result)\n",
      "/home/joeyism/.local/lib/python3.6/site-packages/pandas/core/indexing.py:194: SettingWithCopyWarning: \n",
      "A value is trying to be set on a copy of a slice from a DataFrame\n",
      "\n",
      "See the caveats in the documentation: http://pandas.pydata.org/pandas-docs/stable/indexing.html#indexing-view-versus-copy\n",
      "  self._setitem_with_indexer(indexer, value)\n",
      "/home/joeyism/.local/lib/python3.6/site-packages/pandas/core/groupby.py:4189: FutureWarning: using a dict with renaming is deprecated and will be removed in a future version\n",
      "  return super(DataFrameGroupBy, self).aggregate(arg, *args, **kwargs)\n"
     ]
    }
   ],
   "source": [
    "import pandas as pd\n",
    "import numpy as np\n",
    "import os\n",
    "filedir = \".\"\n",
    "\n",
    "\n",
    "prods = pd.read_csv(filedir + \"/prods.csv\")\n",
    "actions = pd.read_csv(filedir + \"/actions.csv\")\n",
    "buyers = pd.read_csv(filedir + \"/buyers.csv\")\n",
    "prods_scraped = pd.read_csv(filedir + \"/prods_scraped.csv\")\n",
    "\n",
    "\n",
    "\n",
    "def nan_1_and_0(df, only_value):\n",
    "    df.loc[df == only_value] = 1\n",
    "    df.fillna(0)\n",
    "\n",
    "\n",
    "prods.columns = [\"id1\", \"id2\", \"id3\", \"create_date\", \"description\", \"deleted\", \"deleteddate\", \"product_name\", \"id4\", \"id5\", \"name\", \"picture\", \"surl\", \"updated_date\", \"deleted_date\", \"category\"]\n",
    "\n",
    "for unused_col in [\"deleteddate\", \"surl\"]:\n",
    "    del prods[unused_col]\n",
    "\n",
    "\n",
    "prods = prods.drop_duplicates()\n",
    "\n",
    "\n",
    "### Actions\n",
    "for col in actions.columns:\n",
    "    if actions[col].dtype == np.object:\n",
    "        unique = actions[col].describe()[\"unique\"]\n",
    "        if unique == 1:\n",
    "            top = actions[col].describe()[\"top\"]\n",
    "            nan_1_and_0(actions[col], top)\n",
    "\n",
    "actions[\"context_product\"] = actions[\"context_page_path\"].str.split(\"/\").str[-1]\n",
    "actions.rename(columns={\"id\": \"actions_id\"}, inplace = True)\n",
    "\n",
    "### Modify\n",
    "products_missing_from_prods = list(set(actions[\"context_product\"].values) - set(prods[\"name\"].values))\n",
    "\n",
    "products_missing_df = pd.DataFrame(products_missing_from_prods, columns=[\"name\"])\n",
    "prods = prods.append(products_missing_df).reset_index(drop=True)\n",
    "prods = prods.drop_duplicates()\n",
    "\n",
    "\n",
    "prods2 = prods.groupby([\"name\"]).agg({\n",
    "    \"category\": {\n",
    "        \"joined_category\": lambda x: \" \".join([y if isinstance(y, str) else str(y) for y in x ]),\n",
    "        \"count\": lambda x: len(x)\n",
    "    },\n",
    "    \"id1\": {\"no_of_rows\": \"count\"},\n",
    "    \"picture\": {\"picture\": \"first\"},\n",
    "    \"description\": {\"description\": \"first\"},\n",
    "    \"product_name\": {\"product_name\": \"first\"},\n",
    "}).reset_index()\n",
    "prods2.columns = [\"name\"] + list(prods2.columns.droplevel(0)[1:])\n",
    "prods2 = pd.concat([prods2, prods_scraped]).reset_index(drop=True)\n",
    "\n",
    "del prods[\"category\"]\n",
    "\n",
    "positive_actions = [\"Liked Product\", \"Added Product To List\", \"Followed User\", \"Followed Brand\", \"Followed List\", \"saved product\"]\n",
    "\n",
    "actions2 = actions.groupby([\"user_id\", \"context_product\"]).agg({\n",
    "    \"action\": {\n",
    "        \"positive_action_count\": lambda x: len([y for y in x if y in positive_actions])\n",
    "        }\n",
    "    }).reset_index()\n",
    "actions2.columns = [\"user_id\", \"context_product\"] + list(actions2.columns.droplevel(0)[2:])\n",
    "\n",
    "\n",
    "\n",
    "buyers2 = buyers.groupby([\"owner\"]).nunique()\n",
    "del buyers2[\"owner\"]\n",
    "buyers2 = buyers2.reset_index()\n",
    "\n",
    "product_name_nulls = prods2.loc[prods2[\"picture\"].isnull(), \"name\"].values\n",
    "\n",
    "prods2 = prods2[prods2[\"picture\"].notnull()]\n",
    "\n",
    "\n",
    "\n",
    "actions2 = actions2.merge(prods2, left_on=\"context_product\", right_on=\"name\")[actions2.columns]\n",
    "\n",
    "\n",
    "buyers3 = buyers.groupby([\"owner\"]).agg({\n",
    "    \"_id\": {\"_id\": \"count\"},\n",
    "    \"description\": {\"description\": \"first\"},\n",
    "    \"name\": {\"name\": \"first\"}\n",
    "}).reset_index()\n",
    "buyers3.columns = [\"owner\"] + list(buyers3.columns.droplevel(0)[1:])\n",
    "\n",
    "buyers2 = buyers3[[\"owner\", \"_id\", \"description\", \"name\"]].merge(buyers2[[\"owner\", \"description\", \"value\"]], on=\"owner\")\n",
    "del buyers3\n",
    "buyers2.columns = [\"owner\", \"no_of_rows\", \"description\", \"name\", \"no_of_products\", \"no_of_categories\"]\n",
    "\n",
    "\n",
    "\n",
    "df = actions2.merge(buyers2, left_on=\"user_id\", right_on=\"owner\", how=\"left\").merge(prods2, left_on=\"context_product\", right_on=\"name\", how=\"left\")\n",
    "\n",
    "\n"
   ]
  },
  {
   "cell_type": "code",
   "execution_count": 3,
   "metadata": {},
   "outputs": [],
   "source": [
    "def action_timeline(user_id, product):\n",
    "    return actions.loc[(actions[\"user_id\"] == user_id) & (actions[\"context_product\"] == product), [\"user_id\", \"context_product\", \"action\"]]"
   ]
  },
  {
   "cell_type": "code",
   "execution_count": 5,
   "metadata": {},
   "outputs": [],
   "source": [
    "actions_per_user = actions2[[\"user_id\", \"positive_action_count\"]].groupby(\"user_id\").sum().reset_index() #55.335 actions\n",
    "actions_per_product = actions2[[\"context_product\", \"positive_action_count\"]].groupby(\"context_product\").sum().reset_index()"
   ]
  },
  {
   "cell_type": "code",
   "execution_count": 6,
   "metadata": {},
   "outputs": [],
   "source": [
    "def histogram(arr, xlabel=\"\", ylabel=\"\", title=\"\"):\n",
    "    from matplotlib import pyplot as plt\n",
    "    import matplotlib.mlab as mlab\n",
    "\n",
    "    n, bins, patches = plt.hist(arr, 50, facecolor='g', alpha=0.75)\n",
    "\n",
    "    plt.xlabel(xlabel)\n",
    "    plt.ylabel(ylabel)\n",
    "    plt.title(title)\n",
    "    plt.grid(True)\n",
    "\n",
    "    plt.show()"
   ]
  },
  {
   "cell_type": "code",
   "execution_count": 14,
   "metadata": {},
   "outputs": [
    {
     "data": {
      "image/png": "[encoded data removed]",
      "text/plain": [
       "<matplotlib.figure.Figure at 0x7f37de62c4a8>"
      ]
     },
     "metadata": {},
     "output_type": "display_data"
    },
    {
     "data": {
      "text/plain": [
       "positive_action_count    0.157312\n",
       "dtype: float64"
      ]
     },
     "execution_count": 14,
     "metadata": {},
     "output_type": "execute_result"
    }
   ],
   "source": [
    "histogram(actions_per_user[\"positive_action_count\"].values, xlabel=\"Number of positive actions per buyers.csv\", ylabel=\"Number of users\", title=\"Positive Actions per user\")\n",
    "np.mean(actions_per_user)"
   ]
  },
  {
   "cell_type": "code",
   "execution_count": 13,
   "metadata": {},
   "outputs": [
    {
     "data": {
      "image/png": "[encoded data removed]",
      "text/plain": [
       "<matplotlib.figure.Figure at 0x7f37dd430d68>"
      ]
     },
     "metadata": {},
     "output_type": "display_data"
    },
    {
     "data": {
      "text/plain": [
       "positive_action_count    0.032936\n",
       "dtype: float64"
      ]
     },
     "execution_count": 13,
     "metadata": {},
     "output_type": "execute_result"
    }
   ],
   "source": [
    "histogram(actions_per_product[\"positive_action_count\"].values, xlabel=\"Number of positive actions per product\", ylabel=\"Number of products\", title=\"Positive Actions per product\")\n",
    "np.mean(actions_per_product)"
   ]
  },
  {
   "cell_type": "markdown",
   "metadata": {},
   "source": [
    "Most active users (top ~1%)"
   ]
  },
  {
   "cell_type": "code",
   "execution_count": 10,
   "metadata": {},
   "outputs": [
    {
     "data": {
      "text/plain": [
       "array(['53ff5739aebb450829000074', '56390cf47023591c04001fcc',\n",
       "       '5714ee12077a0f2b3edc8724', '571d8a1f01f843c233bdf218',\n",
       "       '5745e9b0786dc7f65ceed1be', '57866f9691e1589d1758bf33',\n",
       "       '57c745121ecce5bf1fd6d3be', '57c76886060960b5401076fd',\n",
       "       '57dc360af351301060ed325b', '57e0283ca0d7207618260ed2',\n",
       "       '57e58d5da642941f3aa57c16', '57e58d78a642941f3aa5838d',\n",
       "       '58013f62d75b4cec48bde14b', '58146db51bf9803f3120c7d7',\n",
       "       '58263010ae6f91ed77686f2d', '587eda2647619939bd9ba401',\n",
       "       '592cdde4a2fff4117c20f33d', '59417523684f0f666f0525b3',\n",
       "       '59640a21a3da9e329376f499'], dtype=object)"
      ]
     },
     "execution_count": 10,
     "metadata": {},
     "output_type": "execute_result"
    }
   ],
   "source": [
    "actions_per_user.loc[actions_per_user[\"positive_action_count\"] > 5, \"user_id\"].values"
   ]
  },
  {
   "cell_type": "markdown",
   "metadata": {},
   "source": [
    "Most active products (top ~1%)"
   ]
  },
  {
   "cell_type": "code",
   "execution_count": 12,
   "metadata": {},
   "outputs": [
    {
     "data": {
      "text/plain": [
       "array(['all-beauty-water-all-beauty-skincare-drink-cucumber-aloe',\n",
       "       'arogyam-pure-herbs-arogyam-pure-herbs-face-care-kit',\n",
       "       'aromaid-balanced-health-plus-aromaid-soothe-queasiness',\n",
       "       'canine-royalty-mauve-and-ivory-100-cashmere-knit-sweater',\n",
       "       'donkey-products-wall-hook-and-decal-hookly-captain-skull',\n",
       "       'einstein-pets-pumpkin-time', 'gobare-crisps',\n",
       "       'healthy-dogma-healthy-dogma-petmix-original-2-pound',\n",
       "       'henschel-hats-1161_21-outback', 'hownd-playful-pup-body-mist',\n",
       "       'jolieve-cocoa-and-truffle-gift-set', 'jon-wye-polka-dots-1',\n",
       "       'klymit-hammock-v',\n",
       "       'liquid-health-liquid-health-clear-skin-b5-acne-skin-care-supplement',\n",
       "       'motoped-motopedr-survival',\n",
       "       'prescribed-for-life-uva-ursi-20-arbutin-natural-leaf-extract-powder-arctostaphylos-uva-ursi-5-lb',\n",
       "       'sadhana-clothing-colorful-chakras-legging',\n",
       "       'sugarloom-cosmetics-nail-color-frost',\n",
       "       'tash-cosmetics-black-out-charcoal-face-mask-withdmae',\n",
       "       'taslie-skin-care-ltd.-lenfants-lemon-creme-moisturizing-hair-conditioner'], dtype=object)"
      ]
     },
     "execution_count": 12,
     "metadata": {},
     "output_type": "execute_result"
    }
   ],
   "source": [
    "actions_per_product.loc[actions_per_product[\"positive_action_count\"] > 2, \"context_product\"].values"
   ]
  },
  {
   "cell_type": "code",
   "execution_count": null,
   "metadata": {},
   "outputs": [],
   "source": []
  }
 ],
 "metadata": {
  "kernelspec": {
   "display_name": "Python 3",
   "language": "python",
   "name": "python3"
  },
  "language_info": {
   "codemirror_mode": {
    "name": "ipython",
    "version": 3
   },
   "file_extension": ".py",
   "mimetype": "text/x-python",
   "name": "python",
   "nbconvert_exporter": "python",
   "pygments_lexer": "ipython3",
   "version": "3.6.3"
  }
 },
 "nbformat": 4,
 "nbformat_minor": 2
}
