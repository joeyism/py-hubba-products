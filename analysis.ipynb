{
 "cells": [
  {
   "cell_type": "code",
   "execution_count": 36,
   "metadata": {},
   "outputs": [
    {
     "name": "stderr",
     "output_type": "stream",
     "text": [
      "/usr/lib/python3.6/site-packages/IPython/core/interactiveshell.py:2728: DtypeWarning: Columns (5,14) have mixed types. Specify dtype option on import or set low_memory=False.\n",
      "  interactivity=interactivity, compiler=compiler, result=result)\n",
      "/usr/lib/python3.6/site-packages/IPython/core/interactiveshell.py:2728: DtypeWarning: Columns (28,30,33,39,41) have mixed types. Specify dtype option on import or set low_memory=False.\n",
      "  interactivity=interactivity, compiler=compiler, result=result)\n",
      "/home/joeyism/.local/lib/python3.6/site-packages/pandas/core/groupby.py:4189: FutureWarning: using a dict with renaming is deprecated and will be removed in a future version\n",
      "  return super(DataFrameGroupBy, self).aggregate(arg, *args, **kwargs)\n",
      "/home/joeyism/.local/lib/python3.6/site-packages/pandas/core/indexing.py:194: SettingWithCopyWarning: \n",
      "A value is trying to be set on a copy of a slice from a DataFrame\n",
      "\n",
      "See the caveats in the documentation: http://pandas.pydata.org/pandas-docs/stable/indexing.html#indexing-view-versus-copy\n",
      "  self._setitem_with_indexer(indexer, value)\n"
     ]
    }
   ],
   "source": [
    "import pandas as pd\n",
    "import numpy as np\n",
    "\n",
    "prods = pd.read_csv(\"prods.csv\")\n",
    "actions = pd.read_csv(\"actions.csv\")\n",
    "buyers = pd.read_csv(\"buyers.csv\")\n",
    "\n",
    "\n",
    "def nan_1_and_0(df, only_value):\n",
    "    df.loc[df == only_value] = 1\n",
    "    df.fillna(0)\n",
    "\n",
    "\n",
    "### Prods\n",
    "\n",
    "# ['_id', 'b', 'c', 'createdat', 'd', 'deleted', 'deleteddate', 'n', 'o', 'p', 'slug', 'sp', 'surl', 'updatedat', 'deletedat', 'value']\n",
    "prods.columns = [\"id1\", \"id2\", \"id3\", \"create_date\", \"description\", \"deleted\", \"deleteddate\", \"product_name\", \"id4\", \"id5\", \"name\", \"picture\", \"surl\", \"updated_date\", \"deleted_date\", \"category\"]\n",
    "\n",
    "# remove columns with all NaNs\n",
    "for unused_col in [\"deleteddate\", \"surl\"]:\n",
    "    del prods[unused_col]\n",
    "\n",
    "# Split categories by __, and store\n",
    "#for i in range(3):\n",
    "#    prods[\"category\"+str(i)] = prods[\"category\"].str.split(\"__\").str[i]\n",
    "\n",
    "\n",
    "prods = prods.drop_duplicates()\n",
    "prods2 = prods.groupby([\"name\"]).agg({\n",
    "    \"category\": {\n",
    "        \"joined_category\": lambda x: \" \".join([y if isinstance(y, str) else str(y) for y in x ]),\n",
    "        \"count\": lambda x: len(x)\n",
    "    },\n",
    "    \"id1\": {\"no_of_rows\": \"count\"}\n",
    "}).reset_index()\n",
    "prods2.columns = [\"name\"] + list(prods2.columns.droplevel(0)[1:])\n",
    "\n",
    "del prods[\"category\"]\n",
    "\n",
    "### Actions\n",
    "for col in actions.columns:\n",
    "    if actions[col].dtype == np.object:\n",
    "        unique = actions[col].describe()[\"unique\"]\n",
    "        if unique == 1:\n",
    "            top = actions[col].describe()[\"top\"]\n",
    "            nan_1_and_0(actions[col], top)\n",
    "\n",
    "actions[\"context_product\"] = actions[\"context_page_path\"].str.split(\"/\").str[-1]\n",
    "actions.rename(columns={\"id\": \"actions_id\"}, inplace = True)\n",
    "\n",
    "actions2 = actions[[\"user_id\", \"context_product\", \"action\"]].groupby([\"user_id\", \"context_product\"]).count().reset_index()\n",
    "\n",
    "### Buyers\n",
    "buyers2 = buyers.groupby([\"owner\"]).nunique()\n",
    "del buyers2[\"owner\"]\n",
    "buyers2 = buyers2.reset_index()\n",
    "\n",
    "buyers3 = buyers.groupby([\"owner\"]).count().reset_index()\n",
    "\n",
    "buyers2 = buyers3[[\"owner\", \"_id\"]].merge(buyers2[[\"owner\", \"description\", \"value\"]], on=\"owner\")\n",
    "del buyers3\n",
    "buyers2.columns = [\"owner\", \"no_of_rows\", \"no_of_products\", \"no_of_categories\"]\n",
    "\n",
    "\n",
    "#actions[\"user_id\"] == buyers[\"owner\"]\n",
    "# 5a4978af403d1a5afc74484a\n",
    "\n",
    "#prods[\"name\"] == actions[\"context_product\"]\n",
    "# mastrad-paris-pro-gourmet-hotcold-whipper-sst-0.5l\n",
    "\n",
    "df = actions2.merge(buyers2, left_on=\"user_id\", right_on=\"owner\", how=\"left\").merge(prods2, left_on=\"context_product\", right_on=\"name\", how=\"left\")\n",
    "\n",
    "# for missing in prods2, scrape site\n",
    "#for name in df.loc[df[\"name\"].isnull()][\"context_product\"].unique():\n",
    "#    actions_row = actions.loc[actions[\"context_product\"] == name].iloc[0]\n",
    "#    url = actions_row[\"context_page_url\"]\n",
    "#    #TODO: scrape and add to prods\n",
    "\n"
   ]
  },
  {
   "cell_type": "code",
   "execution_count": 38,
   "metadata": {},
   "outputs": [],
   "source": [
    "def action_timeline(user_id, product):\n",
    "    return actions.loc[(actions[\"user_id\"] == user_id) & (actions[\"context_product\"] == product), [\"user_id\", \"context_product\", \"action\"]]"
   ]
  },
  {
   "cell_type": "code",
   "execution_count": 47,
   "metadata": {},
   "outputs": [],
   "source": [
    "actions_per_user = actions2[[\"user_id\", \"action\"]].groupby(\"user_id\").sum().reset_index() #55.335 actions\n",
    "actions_per_product = actions2[[\"context_product\", \"action\"]].groupby(\"context_product\").sum().reset_index()"
   ]
  },
  {
   "cell_type": "code",
   "execution_count": 48,
   "metadata": {},
   "outputs": [],
   "source": [
    "def histogram(arr, xlabel=\"\", ylabel=\"\", title=\"\"):\n",
    "    from matplotlib import pyplot as plt\n",
    "    import matplotlib.mlab as mlab\n",
    "\n",
    "    n, bins, patches = plt.hist(arr, 50, facecolor='g', alpha=0.75)\n",
    "\n",
    "    plt.xlabel(xlabel)\n",
    "    plt.ylabel(ylabel)\n",
    "    plt.title(title)\n",
    "    plt.grid(True)\n",
    "\n",
    "    plt.show()"
   ]
  },
  {
   "cell_type": "code",
   "execution_count": 49,
   "metadata": {},
   "outputs": [
    {
     "data": {
      "image/png": "[encoded data removed]",
      "text/plain": [
       "<matplotlib.figure.Figure at 0x7f5479f813c8>"
      ]
     },
     "metadata": {},
     "output_type": "display_data"
    },
    {
     "data": {
      "text/plain": [
       "action    55.335846\n",
       "dtype: float64"
      ]
     },
     "execution_count": 49,
     "metadata": {},
     "output_type": "execute_result"
    }
   ],
   "source": [
    "histogram(actions_per_user[\"action\"].values, xlabel=\"Number of actions per user\", ylabel=\"Number of users\", title=\"Actions per user\")\n",
    "np.mean(actions_per_user)"
   ]
  },
  {
   "cell_type": "code",
   "execution_count": 50,
   "metadata": {},
   "outputs": [
    {
     "data": {
      "image/png": "[encoded data removed]",
      "text/plain": [
       "<matplotlib.figure.Figure at 0x7f546829f668>"
      ]
     },
     "metadata": {},
     "output_type": "display_data"
    },
    {
     "data": {
      "text/plain": [
       "action    10.37865\n",
       "dtype: float64"
      ]
     },
     "execution_count": 50,
     "metadata": {},
     "output_type": "execute_result"
    }
   ],
   "source": [
    "histogram(actions_per_product[\"action\"].values, xlabel=\"Number of actions per product\", ylabel=\"Number of products\", title=\"Actions per product\")\n",
    "np.mean(actions_per_product)"
   ]
  },
  {
   "cell_type": "markdown",
   "metadata": {},
   "source": [
    "Most active users (top ~1%)"
   ]
  },
  {
   "cell_type": "code",
   "execution_count": 60,
   "metadata": {},
   "outputs": [
    {
     "data": {
      "text/plain": [
       "array(['56a653311cbc42aa33b36398', '5786812696abf65e06db5b10',\n",
       "       '57c18bfb80dd6bb621c3682e', '57dc360af351301060ed325b',\n",
       "       '58013f62d75b4cec48bde14b', '580f7955c341c35c371c1f95',\n",
       "       '581ca546daa18e2634c2069d', '581ca591daa18e2634c21d67',\n",
       "       '58338a2118970c53da66c3df', '58347ac518970c53da66c5ca',\n",
       "       '58a643bf133956643b9acf20', '58acb0c96989c159811be1dd',\n",
       "       '58d189cbc9f86b2c62258849', '58e3f18b2c071f448ac01a0c',\n",
       "       '58ed650ac40d93104126484f', '58f63673c0a7116aacfac917',\n",
       "       '58fe0f1a0ff0495f100abfa0', '592457974a97353bd4fa741a',\n",
       "       '592cdde4a2fff4117c20f33d', '59640a21a3da9e329376f499',\n",
       "       '5978ef7285666906b0d899c5', '59848b9ee513cf4f5a166639',\n",
       "       '599b2a2d1aebd962f8e0eaa7', '59af4f43aecc503d15c97152',\n",
       "       '59c2cdf0aecc503d15ca6204', '59f7cac5291e0c0dee03ec36',\n",
       "       '5a0830345d672b3a7079cd71', '5a1304dccf32b0357d1f0ec6',\n",
       "       '5a1e1fd1ae47a04b60a204ef', '5a36a9ee16a23b76fd69ec74'], dtype=object)"
      ]
     },
     "execution_count": 60,
     "metadata": {},
     "output_type": "execute_result"
    }
   ],
   "source": [
    "actions_per_user.loc[actions_per_user[\"action\"] > 600, \"user_id\"].values"
   ]
  },
  {
   "cell_type": "markdown",
   "metadata": {},
   "source": [
    "Most active products (top ~1%)"
   ]
  },
  {
   "cell_type": "code",
   "execution_count": 61,
   "metadata": {},
   "outputs": [
    {
     "data": {
      "text/plain": [
       "array(['anevay-horizon-stove',\n",
       "       'ayelet-naturals-pomegranate-facial-scrubor-organic-sugar-facial-scrubor-antioxidants-scrubor-exfoliating-scrubor-dry-skin-facial-scrubor-natural-facial-scrub-1',\n",
       "       'bundle-beds-bundle-bed', 'doggie-dont-the-doggie-dont-device',\n",
       "       'endurance-tap-inc-salted-maple-energy-gel',\n",
       "       'faux-london-luxurious-fluffy-fur-hooded-jacket',\n",
       "       'fuel-fudge-fuel-fudge-original', 'gosun-stove-gosun-go',\n",
       "       'kangeaux-outdoors-walkabout-active-lifestyle-carrier',\n",
       "       'laundreez-laundreez', 'lighterbro-classic-black-stealth',\n",
       "       'minimal-minimal-insulated-flask',\n",
       "       'miniwell-collapsible-water-bottle-with-filter',\n",
       "       'olpro-olpro-pop-tent-blue-1', 'outback-swags-pioneer-swag-tent',\n",
       "       'p.l.a.y.-pet-lifestyle-and-you-moroccan-lounge-bed',\n",
       "       'precidio-design-inc.-kafe-in-the-box-coming-may-2017',\n",
       "       'purpose-purpose-freeze-dried-food-and-treats',\n",
       "       'roro-10-hand-crafted-halo-vase-with-1.75-insert',\n",
       "       'scrubba-by-calibre8-scrubba-wash-bag', 'solpro-helios-smart-1',\n",
       "       'soto-outdoors-pocket-torch',\n",
       "       'squishloc-inc.-squishloc-8-oz.-storage-pouch',\n",
       "       'strand-energy-corporation-three-in-one-solar-charging-lantern',\n",
       "       'talking-tables-carnival-fiesta-succulent-pots',\n",
       "       'trekk-outdoor-trekk-solar-camping-lantern-with-waterproof-silicone-storage-or-usb-charger-included-or-three-led-light-settings-or-must-have-lightweight-compact-camp-gear',\n",
       "       'wacaco-minipresso-gr', 'world-of-angus-the-5-second-dog-parka'], dtype=object)"
      ]
     },
     "execution_count": 61,
     "metadata": {},
     "output_type": "execute_result"
    }
   ],
   "source": [
    "actions_per_product.loc[actions_per_product[\"action\"] > 120, \"context_product\"].values"
   ]
  },
  {
   "cell_type": "code",
   "execution_count": null,
   "metadata": {},
   "outputs": [],
   "source": []
  }
 ],
 "metadata": {
  "kernelspec": {
   "display_name": "Python 3",
   "language": "python",
   "name": "python3"
  },
  "language_info": {
   "codemirror_mode": {
    "name": "ipython",
    "version": 3
   },
   "file_extension": ".py",
   "mimetype": "text/x-python",
   "name": "python",
   "nbconvert_exporter": "python",
   "pygments_lexer": "ipython3",
   "version": "3.6.3"
  }
 },
 "nbformat": 4,
 "nbformat_minor": 2
}
